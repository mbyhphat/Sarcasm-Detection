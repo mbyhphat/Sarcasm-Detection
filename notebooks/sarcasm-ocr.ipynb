{
 "cells": [
  {
   "cell_type": "code",
   "execution_count": 1,
   "id": "86f41958",
   "metadata": {
    "_cell_guid": "b1076dfc-b9ad-4769-8c92-a6c4dae69d19",
    "_uuid": "8f2839f25d086af736a60e9eeb907d3b93b6e0e5",
    "execution": {
     "iopub.execute_input": "2025-02-23T07:28:16.891205Z",
     "iopub.status.busy": "2025-02-23T07:28:16.890861Z",
     "iopub.status.idle": "2025-02-23T07:28:25.737769Z",
     "shell.execute_reply": "2025-02-23T07:28:25.737069Z"
    },
    "papermill": {
     "duration": 8.8522,
     "end_time": "2025-02-23T07:28:25.739374",
     "exception": false,
     "start_time": "2025-02-23T07:28:16.887174",
     "status": "completed"
    },
    "tags": []
   },
   "outputs": [],
   "source": [
    "import json\n",
    "import easyocr\n",
    "from PIL import Image\n",
    "import numpy as np\n",
    "import pandas as pd\n",
    "import os\n",
    "from tqdm import tqdm\n",
    "import sys"
   ]
  },
  {
   "cell_type": "code",
   "execution_count": 2,
   "id": "440fbc67",
   "metadata": {
    "execution": {
     "iopub.execute_input": "2025-02-23T07:28:25.745229Z",
     "iopub.status.busy": "2025-02-23T07:28:25.744851Z",
     "iopub.status.idle": "2025-02-23T07:28:25.750559Z",
     "shell.execute_reply": "2025-02-23T07:28:25.749939Z"
    },
    "papermill": {
     "duration": 0.009483,
     "end_time": "2025-02-23T07:28:25.751631",
     "exception": false,
     "start_time": "2025-02-23T07:28:25.742148",
     "status": "completed"
    },
    "tags": []
   },
   "outputs": [],
   "source": [
    "df = pd.DataFrame(columns=[\"image_name\", \"combined_text\"])"
   ]
  },
  {
   "cell_type": "code",
   "execution_count": 3,
   "id": "b059040b",
   "metadata": {
    "execution": {
     "iopub.execute_input": "2025-02-23T07:28:25.756524Z",
     "iopub.status.busy": "2025-02-23T07:28:25.756309Z",
     "iopub.status.idle": "2025-02-23T07:28:29.007008Z",
     "shell.execute_reply": "2025-02-23T07:28:29.006041Z"
    },
    "papermill": {
     "duration": 3.254891,
     "end_time": "2025-02-23T07:28:29.008691",
     "exception": false,
     "start_time": "2025-02-23T07:28:25.753800",
     "status": "completed"
    },
    "tags": []
   },
   "outputs": [],
   "source": [
    "reader = easyocr.Reader(['vi', 'en'])"
   ]
  },
  {
   "cell_type": "code",
   "execution_count": 4,
   "id": "b8162909",
   "metadata": {
    "execution": {
     "iopub.execute_input": "2025-02-23T07:28:29.013917Z",
     "iopub.status.busy": "2025-02-23T07:28:29.013657Z",
     "iopub.status.idle": "2025-02-23T07:28:29.016830Z",
     "shell.execute_reply": "2025-02-23T07:28:29.016041Z"
    },
    "papermill": {
     "duration": 0.007001,
     "end_time": "2025-02-23T07:28:29.018026",
     "exception": false,
     "start_time": "2025-02-23T07:28:29.011025",
     "status": "completed"
    },
    "tags": []
   },
   "outputs": [],
   "source": [
    "#train_folder = '/kaggle/input/dataset/training-images/train-images'"
   ]
  },
  {
   "cell_type": "code",
   "execution_count": 5,
   "id": "41721660",
   "metadata": {
    "execution": {
     "iopub.execute_input": "2025-02-23T07:28:29.022760Z",
     "iopub.status.busy": "2025-02-23T07:28:29.022543Z",
     "iopub.status.idle": "2025-02-23T07:28:29.025714Z",
     "shell.execute_reply": "2025-02-23T07:28:29.024896Z"
    },
    "papermill": {
     "duration": 0.006944,
     "end_time": "2025-02-23T07:28:29.027064",
     "exception": false,
     "start_time": "2025-02-23T07:28:29.020120",
     "status": "completed"
    },
    "tags": []
   },
   "outputs": [],
   "source": [
    "test_folder = \"/kaggle/input/dataset/private-test-images/test-images\""
   ]
  },
  {
   "cell_type": "code",
   "execution_count": 6,
   "id": "edb9aced",
   "metadata": {
    "execution": {
     "iopub.execute_input": "2025-02-23T07:28:29.031637Z",
     "iopub.status.busy": "2025-02-23T07:28:29.031439Z",
     "iopub.status.idle": "2025-02-23T07:28:29.034297Z",
     "shell.execute_reply": "2025-02-23T07:28:29.033661Z"
    },
    "papermill": {
     "duration": 0.006351,
     "end_time": "2025-02-23T07:28:29.035414",
     "exception": false,
     "start_time": "2025-02-23T07:28:29.029063",
     "status": "completed"
    },
    "tags": []
   },
   "outputs": [],
   "source": [
    "# extracted_texts = []\n",
    "# for i, file_name in enumerate(tqdm(os.listdir(train_folder), file=sys.stdout)):\n",
    "#     image_path = os.path.join(train_folder, file_name)\n",
    "#     results = reader.readtext(image_path)\n",
    "#     extracted_text = ' '.join([text for (_, text, _) in results])\n",
    "#     new_row = pd.DataFrame({\"image_name\": [file_name], \"combined_text\": [extracted_text]})\n",
    "#     df = pd.concat([df, new_row], ignore_index=True)"
   ]
  },
  {
   "cell_type": "code",
   "execution_count": 7,
   "id": "6b9bb1ae",
   "metadata": {
    "execution": {
     "iopub.execute_input": "2025-02-23T07:28:29.040108Z",
     "iopub.status.busy": "2025-02-23T07:28:29.039880Z",
     "iopub.status.idle": "2025-02-23T07:33:20.423721Z",
     "shell.execute_reply": "2025-02-23T07:33:20.422885Z"
    },
    "papermill": {
     "duration": 291.387727,
     "end_time": "2025-02-23T07:33:20.425149",
     "exception": false,
     "start_time": "2025-02-23T07:28:29.037422",
     "status": "completed"
    },
    "tags": []
   },
   "outputs": [
    {
     "name": "stdout",
     "output_type": "stream",
     "text": [
      "100%|██████████| 1504/1504 [04:51<00:00,  5.16it/s]\n"
     ]
    }
   ],
   "source": [
    "extracted_texts = []\n",
    "for i, file_name in enumerate(tqdm(os.listdir(test_folder), file=sys.stdout)):\n",
    "    image_path = os.path.join(test_folder, file_name)\n",
    "    results = reader.readtext(image_path)\n",
    "    extracted_text = ' '.join([text for (_, text, _) in results])\n",
    "    new_row = pd.DataFrame({\"image_name\": [file_name], \"combined_text\": [extracted_text]})\n",
    "    df = pd.concat([df, new_row], ignore_index=True)"
   ]
  },
  {
   "cell_type": "code",
   "execution_count": 8,
   "id": "09d6301b",
   "metadata": {
    "execution": {
     "iopub.execute_input": "2025-02-23T07:33:20.528922Z",
     "iopub.status.busy": "2025-02-23T07:33:20.528654Z",
     "iopub.status.idle": "2025-02-23T07:33:20.550233Z",
     "shell.execute_reply": "2025-02-23T07:33:20.549513Z"
    },
    "papermill": {
     "duration": 0.074178,
     "end_time": "2025-02-23T07:33:20.551480",
     "exception": false,
     "start_time": "2025-02-23T07:33:20.477302",
     "status": "completed"
    },
    "tags": []
   },
   "outputs": [
    {
     "data": {
      "text/html": [
       "<div>\n",
       "<style scoped>\n",
       "    .dataframe tbody tr th:only-of-type {\n",
       "        vertical-align: middle;\n",
       "    }\n",
       "\n",
       "    .dataframe tbody tr th {\n",
       "        vertical-align: top;\n",
       "    }\n",
       "\n",
       "    .dataframe thead th {\n",
       "        text-align: right;\n",
       "    }\n",
       "</style>\n",
       "<table border=\"1\" class=\"dataframe\">\n",
       "  <thead>\n",
       "    <tr style=\"text-align: right;\">\n",
       "      <th></th>\n",
       "      <th>image_name</th>\n",
       "      <th>combined_text</th>\n",
       "    </tr>\n",
       "  </thead>\n",
       "  <tbody>\n",
       "    <tr>\n",
       "      <th>0</th>\n",
       "      <td>3cf39586f606b05725d746603605d891c3a6d334116d55...</td>\n",
       "      <td>Bác sĩ: Vén á0 Iên tôi tiêm cái nào muhangxom ...</td>\n",
       "    </tr>\n",
       "    <tr>\n",
       "      <th>1</th>\n",
       "      <td>13a5019ff17a2ab0c70b1712ab5b8a2e61356e1be2d9aa...</td>\n",
       "      <td>if. Senior Member 30 minutes ago #5 Nằm ở bản ...</td>\n",
       "    </tr>\n",
       "    <tr>\n",
       "      <th>2</th>\n",
       "      <td>8012aeb49536661782e4133c27b71f7e97a12ae24f5afe...</td>\n",
       "      <td>ĐlỀN TỪ VÀO CHỖ TRỐNG: MUOT TRỘI APP MYVIB THÌ...</td>\n",
       "    </tr>\n",
       "    <tr>\n",
       "      <th>3</th>\n",
       "      <td>c9a4ddaa4db1c5611050b3ea50523a10d33666a630686e...</td>\n",
       "      <td>chu xom Me Con Ba '\"1 ' ' Yu Nèee bãi cỏ x ông...</td>\n",
       "    </tr>\n",
       "    <tr>\n",
       "      <th>4</th>\n",
       "      <td>ad007ec9f2f4794e27fd85f819e2f0bfd5610c06952739...</td>\n",
       "      <td>Hey Vergill; @uaem Mã gi{m giá đặt MIXUE aghol...</td>\n",
       "    </tr>\n",
       "    <tr>\n",
       "      <th>...</th>\n",
       "      <td>...</td>\n",
       "      <td>...</td>\n",
       "    </tr>\n",
       "    <tr>\n",
       "      <th>1499</th>\n",
       "      <td>56025b2c8c6942300367dd3c50f8a951c1ad384c813fb7...</td>\n",
       "      <td>B!ruxp o_Ứhintg</td>\n",
       "    </tr>\n",
       "    <tr>\n",
       "      <th>1500</th>\n",
       "      <td>72d656aeec63be8692b97d8c4db472834dcdbecd1c9eeb...</td>\n",
       "      <td>Phuong Troi Xa Nam mô a di Đà Phật 78 2h Like ...</td>\n",
       "    </tr>\n",
       "    <tr>\n",
       "      <th>1501</th>\n",
       "      <td>3cbede4d070312e7be8b4d934c9ca9af6c3f060d8e9504...</td>\n",
       "      <td>3ẵ8 LANTOA</td>\n",
       "    </tr>\n",
       "    <tr>\n",
       "      <th>1502</th>\n",
       "      <td>2070fad4e6cfcac95fbceb22fb6f9388599514190789f3...</td>\n",
       "      <td>Thèng Huy trollxe Anh Ông Huy Huy</td>\n",
       "    </tr>\n",
       "    <tr>\n",
       "      <th>1503</th>\n",
       "      <td>6757aeb929345f57d64156eafe7f867fc2c1cdc2755aeb...</td>\n",
       "      <td>Kt tr Votnan Linh Phạm 3 trước Nghe từ hồi còn...</td>\n",
       "    </tr>\n",
       "  </tbody>\n",
       "</table>\n",
       "<p>1504 rows × 2 columns</p>\n",
       "</div>"
      ],
      "text/plain": [
       "                                             image_name  \\\n",
       "0     3cf39586f606b05725d746603605d891c3a6d334116d55...   \n",
       "1     13a5019ff17a2ab0c70b1712ab5b8a2e61356e1be2d9aa...   \n",
       "2     8012aeb49536661782e4133c27b71f7e97a12ae24f5afe...   \n",
       "3     c9a4ddaa4db1c5611050b3ea50523a10d33666a630686e...   \n",
       "4     ad007ec9f2f4794e27fd85f819e2f0bfd5610c06952739...   \n",
       "...                                                 ...   \n",
       "1499  56025b2c8c6942300367dd3c50f8a951c1ad384c813fb7...   \n",
       "1500  72d656aeec63be8692b97d8c4db472834dcdbecd1c9eeb...   \n",
       "1501  3cbede4d070312e7be8b4d934c9ca9af6c3f060d8e9504...   \n",
       "1502  2070fad4e6cfcac95fbceb22fb6f9388599514190789f3...   \n",
       "1503  6757aeb929345f57d64156eafe7f867fc2c1cdc2755aeb...   \n",
       "\n",
       "                                          combined_text  \n",
       "0     Bác sĩ: Vén á0 Iên tôi tiêm cái nào muhangxom ...  \n",
       "1     if. Senior Member 30 minutes ago #5 Nằm ở bản ...  \n",
       "2     ĐlỀN TỪ VÀO CHỖ TRỐNG: MUOT TRỘI APP MYVIB THÌ...  \n",
       "3     chu xom Me Con Ba '\"1 ' ' Yu Nèee bãi cỏ x ông...  \n",
       "4     Hey Vergill; @uaem Mã gi{m giá đặt MIXUE aghol...  \n",
       "...                                                 ...  \n",
       "1499                                    B!ruxp o_Ứhintg  \n",
       "1500  Phuong Troi Xa Nam mô a di Đà Phật 78 2h Like ...  \n",
       "1501                                         3ẵ8 LANTOA  \n",
       "1502                  Thèng Huy trollxe Anh Ông Huy Huy  \n",
       "1503  Kt tr Votnan Linh Phạm 3 trước Nghe từ hồi còn...  \n",
       "\n",
       "[1504 rows x 2 columns]"
      ]
     },
     "execution_count": 8,
     "metadata": {},
     "output_type": "execute_result"
    }
   ],
   "source": [
    "df"
   ]
  },
  {
   "cell_type": "code",
   "execution_count": 9,
   "id": "35de6372",
   "metadata": {
    "execution": {
     "iopub.execute_input": "2025-02-23T07:33:20.657113Z",
     "iopub.status.busy": "2025-02-23T07:33:20.656807Z",
     "iopub.status.idle": "2025-02-23T07:33:20.674621Z",
     "shell.execute_reply": "2025-02-23T07:33:20.674029Z"
    },
    "papermill": {
     "duration": 0.072505,
     "end_time": "2025-02-23T07:33:20.675821",
     "exception": false,
     "start_time": "2025-02-23T07:33:20.603316",
     "status": "completed"
    },
    "tags": []
   },
   "outputs": [],
   "source": [
    "df.to_csv('test_ocr_text.csv', index=False, encoding=\"utf-8\")"
   ]
  }
 ],
 "metadata": {
  "kaggle": {
   "accelerator": "gpu",
   "dataSources": [
    {
     "datasetId": 5864201,
     "sourceId": 9959698,
     "sourceType": "datasetVersion"
    }
   ],
   "dockerImageVersionId": 30918,
   "isGpuEnabled": true,
   "isInternetEnabled": true,
   "language": "python",
   "sourceType": "notebook"
  },
  "kernelspec": {
   "display_name": "Python 3",
   "language": "python",
   "name": "python3"
  },
  "language_info": {
   "codemirror_mode": {
    "name": "ipython",
    "version": 3
   },
   "file_extension": ".py",
   "mimetype": "text/x-python",
   "name": "python",
   "nbconvert_exporter": "python",
   "pygments_lexer": "ipython3",
   "version": "3.10.12"
  },
  "papermill": {
   "default_parameters": {},
   "duration": 308.925858,
   "end_time": "2025-02-23T07:33:23.177218",
   "environment_variables": {},
   "exception": null,
   "input_path": "__notebook__.ipynb",
   "output_path": "__notebook__.ipynb",
   "parameters": {},
   "start_time": "2025-02-23T07:28:14.251360",
   "version": "2.6.0"
  }
 },
 "nbformat": 4,
 "nbformat_minor": 5
}
